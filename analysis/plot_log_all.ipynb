{
 "cells": [
  {
   "cell_type": "markdown",
   "id": "01c99c0f-c7c0-4d8d-9b0f-2434e6a94722",
   "metadata": {},
   "source": [
    "# Plot the simple log"
   ]
  },
  {
   "cell_type": "code",
   "execution_count": 1,
   "id": "contained-reduction",
   "metadata": {},
   "outputs": [],
   "source": [
    "%matplotlib widget\n",
    "import matplotlib.pyplot as plt\n",
    "import pandas as pd\n",
    "import numpy as np\n",
    "from scipy import stats"
   ]
  },
  {
   "cell_type": "code",
   "execution_count": null,
   "id": "fabulous-charge",
   "metadata": {},
   "outputs": [],
   "source": [
    "data = pd.read_excel(\"https://github.com/mendip-defender/Voltage-Data-Logging/raw/refs/heads/main/data/combined_data_all_time.xlsx\")\n",
    "data"
   ]
  },
  {
   "cell_type": "code",
   "execution_count": null,
   "id": "4b37c4d6-6f48-4acc-8daf-9f43c2e5be7f",
   "metadata": {},
   "outputs": [],
   "source": [
    "#lets write a litle helper function to calculate the deviation in ppm referenced to the mean\n",
    "def ppm(arr):\n",
    "    return (arr - np.mean(arr))/np.mean(arr) * 1e6\n",
    "def stan_dev_ppm(arr):\n",
    "    return arr\n",
    "def v_read(arr):\n",
    "    return (arr - 10)*1000*1000\n",
    "def ppm_UoM(frame):\n",
    "    return round(frame[\"Uncertainty\"] / frame[\"Mean Value\"] * 1e6, 2)"
   ]
  },
  {
   "cell_type": "code",
   "execution_count": null,
   "id": "fb51e17e-7500-4c96-8cc1-52ed945e9953",
   "metadata": {},
   "outputs": [],
   "source": [
    "#hmm = round((0.00018/10.000065) * 1e6, 2)\n",
    "#hmm = v_read_UoM(data[\"Uncertainty\"])\n",
    "#print(hmm)\n",
    "\n",
    "#def fun(frame):\n",
    "#    return frame[\"Uncertainty\"] / frame[\"Mean Value\"] * 1e6\n",
    "\n",
    "#print(fun(data))"
   ]
  },
  {
   "cell_type": "code",
   "execution_count": null,
   "id": "indirect-reception",
   "metadata": {},
   "outputs": [],
   "source": [
    "plt.figure()\n",
    "plt.title(\"10 V LTZ Voltage Referance measured by a HP34401A\")\n",
    "plt.plot(ppm(data[\"Mean Value\"]))\n",
    "#plt.errorbar(data.index, ppm(data[\"Mean Value\"]), yerr=ppm_UoM(data))\n",
    "plt.ylabel(\"Deviation in µV/V\")\n",
    "plt.xlabel(\"Number of Measurements\")\n",
    "plt.grid()\n",
    "#plt.figure(figsize=(15,6))\n",
    "plt.tight_layout()\n",
    "plt.show()"
   ]
  },
  {
   "cell_type": "code",
   "execution_count": null,
   "id": "hairy-realtor",
   "metadata": {},
   "outputs": [],
   "source": [
    "plt.figure()\n",
    "plt.title(\"µV/V of Standard Deviation Mean\")\n",
    "plt.plot(stan_dev_ppm(data[\"µV/V of Standard Deviation Mean\"]))\n",
    "#plt.errorbar(ppm, yerr=16)\n",
    "plt.ylabel(\"Deviation in µV/V\")\n",
    "plt.xlabel(\"Number of Measurements\")\n",
    "#plt.figure(figsize=(15,6))\n",
    "plt.grid()\n",
    "plt.tight_layout()\n",
    "plt.show()"
   ]
  },
  {
   "cell_type": "code",
   "execution_count": null,
   "id": "acfda7bd-9266-4f17-bbc2-edba3da61a01",
   "metadata": {},
   "outputs": [],
   "source": [
    "plt.figure()\n",
    "plt.title(\"10 V Ref Reading\")\n",
    "plt.plot(v_read(data[\"Mean Value\"]))\n",
    "#plt.errorbar(v_read, yerr=16, fmt='o')\n",
    "plt.ylabel(\"Deviation from 10 V in µV\")\n",
    "plt.xlabel(\"Number of Measurements\")\n",
    "#plt.figure(figsize=(15,6))\n",
    "plt.grid()\n",
    "plt.tight_layout()\n",
    "plt.show()"
   ]
  }
 ],
 "metadata": {
  "kernelspec": {
   "display_name": "Python 3 (ipykernel)",
   "language": "python",
   "name": "python3"
  },
  "language_info": {
   "codemirror_mode": {
    "name": "ipython",
    "version": 3
   },
   "file_extension": ".py",
   "mimetype": "text/x-python",
   "name": "python",
   "nbconvert_exporter": "python",
   "pygments_lexer": "ipython3",
   "version": "3.11.2"
  }
 },
 "nbformat": 4,
 "nbformat_minor": 5
}
